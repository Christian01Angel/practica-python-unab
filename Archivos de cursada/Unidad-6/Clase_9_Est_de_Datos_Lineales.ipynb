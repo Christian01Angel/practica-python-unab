{
 "cells": [
  {
   "attachments": {},
   "cell_type": "markdown",
   "metadata": {},
   "source": [
    "# Algoritmos y Estructuras de Datos. \n",
    "\n",
    "## - Clase 9 - Estructuras de Datos Lineales -"
   ]
  },
  {
   "attachments": {},
   "cell_type": "markdown",
   "metadata": {},
   "source": [
    "### Tipos de Datos Abstractos (TAD)\n",
    "\n",
    "\n",
    "- Tipos de Datos \n",
    "- Listas Enlazadas\n",
    "- Pilas\n",
    "- Colas"
   ]
  },
  {
   "attachments": {},
   "cell_type": "markdown",
   "metadata": {},
   "source": [
    "# Tipos de Estructuras Lineales\n",
    "\n",
    "- Pilas\n",
    "- Colas\n",
    "- Listas Enlazadas\n",
    "\n",
    "**Pros:** \n",
    "- Dymanicas!"
   ]
  },
  {
   "attachments": {},
   "cell_type": "markdown",
   "metadata": {},
   "source": [
    "## Pilas\n",
    "\n",
    "El comportamiento de una *Pila* se puede describir mediante la frase “Lo último que se apiló es lo primero que se usa”. Este método se llama **LIFO** (Last In First Out). \n",
    "\n",
    "Formalmente un *Pila* es un TAD que tiene las siguientes operaciones:\n",
    "\n",
    "- \\_\\_init\\_\\_ : Inicializa una pila vacía.\n",
    "\n",
    "- push (apilar): Agrega un nuevo elemento a la Pila\n",
    "\n",
    "- pop (desapilar): Remueve el *tope* de la Pila y lo devuelve. Este es el último elemento que se agregó.\n",
    "\n",
    "- is\\_empty (está\\_vacía): Retorna **True** o **False** según si la pila está vacía o no.\n",
    "\n",
    "Opcionles:\n",
    "\n",
    "- top / peek : Retorna el *tope* de la Pila (sin removerlo).\n"
   ]
  },
  {
   "cell_type": "code",
   "execution_count": null,
   "metadata": {},
   "outputs": [],
   "source": [
    "p = Pila()\n",
    "\n",
    "def top(P):\n",
    "    if is_empty() : pass\n",
    "    x = P.pop()\n",
    "    P.push(x)\n",
    "    return x\n"
   ]
  },
  {
   "attachments": {},
   "cell_type": "markdown",
   "metadata": {},
   "source": [
    "### Implementación de Pilas útilizando Listas\n",
    "\n",
    "Definiremos una clase Pila con un atributo, items, de tipo lista, que contendrá los ele- mentos de la pila. El tope de la pila se encontrará en la última posición de la lista, y cada vez que se apile un nuevo elemento, se lo agregará al final."
   ]
  },
  {
   "cell_type": "code",
   "execution_count": 1,
   "metadata": {},
   "outputs": [],
   "source": [
    "class Pila():\n",
    "    \"\"\" Representa una pila con operaciones de apilar, desapilar y \n",
    "        verificar si está vacía. \"\"\"\n",
    "\n",
    "    def __init__(self):\n",
    "        \"\"\" Crea una pila vacía. \"\"\"\n",
    "# La pila vacía se representa con una lista vacía \n",
    "        self.items = [] # self.head/tope = Nodo()\n",
    "\n",
    "    def push(self, x):\n",
    "        \"\"\" Agrega el elemento x a la pila. \"\"\"\n",
    "# Apilar es agregar al final de la lista. \n",
    "        self.items.append(x)\n",
    "\n",
    "# Desapilar usará el método pop de lista que hace exactamente lo requerido\n",
    "    def pop(self):\n",
    "        \"\"\" Devuelve el elemento tope y lo elimina de la pila.\n",
    "            Si la pila está vacía levanta una excepción. \"\"\"\n",
    "        if not self.is_empty():\n",
    "            return self.items.pop()\n",
    "        else:\n",
    "            raise ValueError(\"La pila está vacía\")\n",
    "\n",
    "# El método para indicar si se trata de una pila vacía.\n",
    "    def is_empty(self):\n",
    "        \"\"\" Devuelve True si la lista está vacía, False si no. \"\"\" \n",
    "        return self.items == []\n",
    "\n",
    "    "
   ]
  },
  {
   "cell_type": "code",
   "execution_count": null,
   "metadata": {},
   "outputs": [],
   "source": [
    "p = Pila()\n",
    "p.is_empty()\n",
    "p.push(1)\n",
    "p.is_empty()\n",
    "p.push(5)\n",
    "p.push(\"+\")\n",
    "p.push(23)\n",
    "p.pop()\n",
    "p.pop()\n"
   ]
  },
  {
   "attachments": {},
   "cell_type": "markdown",
   "metadata": {},
   "source": [
    "Ejercicio: Implementar el método **top**, modificando el método **pop**.  "
   ]
  },
  {
   "cell_type": "code",
   "execution_count": null,
   "metadata": {},
   "outputs": [],
   "source": [
    "#Ejercicio: Implementar el método **top**, modificando el método **pop**.  \n",
    "\n",
    "def top(self): \n",
    "    if is_empty() : pass\n",
    "    x = self.items.pop() # x = P.pop() # \n",
    "    self.items.append(x)# P.push(x) #\n",
    "    return x\n",
    "\n"
   ]
  },
  {
   "attachments": {},
   "cell_type": "markdown",
   "metadata": {},
   "source": [
    "## Colas\n",
    "\n",
    "\n",
    "Todos sabemos lo que es una *Cola*. Este método se llama **FIFO** (First In First Out). \n",
    "\n",
    "Formalmente un *Cola* es un TAD que tiene las siguientes operaciones:\n",
    "\n",
    "- \\_\\_init\\_\\_ : Inicializa una cola vacía.\n",
    "\n",
    "- enqueue (encolar o push): Agrega un nuevo elemento al final de la Cola\n",
    "\n",
    "- dequeue (desencolar o pop): Remueve el primer elemento de la Cola y lo devuelve. \n",
    "\n",
    "- is\\_empty (está\\_vacía): Retorna **True** o **False** según si la Cola está vacía o no.\n",
    "\n"
   ]
  },
  {
   "cell_type": "code",
   "execution_count": null,
   "metadata": {},
   "outputs": [],
   "source": [
    "class Cola():\n",
    "    \"\"\" Representa a una cola, con operaciones de encolar y\n",
    "    desencolar. El primero en ser encolado es también el primero en ser desencolado. \"\"\"\n",
    "\n",
    "    def __init__(self):\n",
    "        \"\"\" Crea una cola vacía. \"\"\"\n",
    "# La cola vacía se representa por una lista vacía \n",
    "        self.items = [] # self.head/primero = Nodo()\n",
    "    \n",
    "    \n",
    "#El método encolar se implementará agregando el nuevo elemento al final de la lista:\n",
    "    def encolar(self, x):\n",
    "        \"\"\" Agrega el elemento x como último de la cola. \"\"\" \n",
    "        self.items.append(x)\n",
    "\n",
    "    def desencolar(self):\n",
    "        \"\"\" Elimina el primer elemento de la cola y devuelve su\n",
    "        valor. Si la cola está vacía, levanta ValueError. \"\"\"\n",
    "        if not self.es_vacia():\n",
    "            return self.items.pop(0)\n",
    "        else:\n",
    "            raise ValueError(\"La cola está vacía\")\n",
    "            \n",
    "#Por último, el método es_vacia, que indicará si la cola está o no vacía.\n",
    "    def es_vacia(self):\n",
    "        \"\"\" Devuelve True si la cola esta vacía, False si no.\"\"\" \n",
    "        return self.items == []\n"
   ]
  },
  {
   "cell_type": "code",
   "execution_count": null,
   "metadata": {},
   "outputs": [],
   "source": [
    "q = Cola()\n",
    "q.es_vacia()\n",
    "q.encolar(1) \n",
    "q.encolar(\"hola\") \n",
    "q.encolar(5) \n",
    "q.es_vacia() \n",
    "q.desencolar()\n",
    "q.desencolar()\n",
    "#q.encolar(8)\n",
    "#q.desencolar()\n",
    "#q.desencolar()\n",
    "#q.es_vacia()\n",
    "#q.desencolar()"
   ]
  },
  {
   "attachments": {},
   "cell_type": "markdown",
   "metadata": {},
   "source": [
    "# Listas, Pilas y Colas Enlazadas"
   ]
  },
  {
   "attachments": {},
   "cell_type": "markdown",
   "metadata": {},
   "source": [
    "## Listas enlazadas\n",
    "\n",
    "### Nodos\n",
    "\n",
    "Crearemos un nuevo objeto **Nodo**, este será el bloque constructor de nuestras estructuras de datos lineales. "
   ]
  },
  {
   "cell_type": "code",
   "execution_count": 2,
   "metadata": {},
   "outputs": [],
   "source": [
    "class _Nodo(object):\n",
    "    def __init__(self, dato = None, prox = None):\n",
    "        self.dato = dato\n",
    "        self.prox = prox \n",
    "        \n",
    "    def __str__(self):\n",
    "        return str(self.dato)"
   ]
  },
  {
   "attachments": {},
   "cell_type": "markdown",
   "metadata": {},
   "source": [
    "\n",
    "\n",
    "\n",
    "### Operaciones \n",
    "\n",
    "Definimos a continuación las operaciones que inicialmente deberá cumplir la clase ListaEnlazada.\n",
    "\n",
    "- \\_\\_str\\_\\_, para mostrar la lista.\n",
    "\n",
    "- \\_\\_len\\_\\_, para calcular la longitud de la lista.\n",
    "\n",
    "- append(x), para agregar un elemento al final de la lista.\n",
    "\n",
    "- insert(i, x),paraagregarelelementoxenlaposicióni(levantaunaexcepciónsila posición i es inválida).\n",
    "\n",
    "- remove(x), para eliminar la primera aparición de x en la lista (levanta una excepción si x no está).\n",
    "\n",
    "- pop([i]), para borrar el elemento que está en la posición i y devolver su valor. Si no se especifica el valor de i, \n",
    "\n",
    "- pop() elimina y devuelve el elemento que está en el último lugar de la lista (levanta una excepción si se hace  referencia a una posición no válida de la lista).\n",
    "\n",
    "- index(x), devuelve la posición de la primera aparición de x en la lista (levanta una excepción si x no está).\n"
   ]
  },
  {
   "cell_type": "markdown",
   "metadata": {},
   "source": [
    "![Nodo](https://drive.google.com/uc?export=view&id=1u2kB8AvTemPGKsaMg9mze6OOcQzGPyjP)\n"
   ]
  },
  {
   "attachments": {},
   "cell_type": "markdown",
   "metadata": {},
   "source": [
    "Definicion de la clase Nodo:"
   ]
  },
  {
   "cell_type": "code",
   "execution_count": null,
   "metadata": {},
   "outputs": [],
   "source": [
    "class ListaEnlazada(object):\n",
    "    \" Modela una lista enlazada, compuesta de Nodos. \"\n",
    "    def __init__(self, listEnlz = None):\n",
    "        \"\"\" Crea una lista enlazada vacía. \"\"\"\n",
    "    # prim: apuntará al primer nodo - None con la lista vacía\n",
    "        self. prim = listEnlz\n",
    "    # len: longitud de la lista - 0 con la lista vacía \n",
    "        self.len = 0\n"
   ]
  },
  {
   "attachments": {},
   "cell_type": "markdown",
   "metadata": {},
   "source": [
    "# Definicion de los métodos mas importantes:"
   ]
  },
  {
   "cell_type": "code",
   "execution_count": null,
   "metadata": {},
   "outputs": [],
   "source": [
    "class ListaEnlazada(object):\n",
    "    \" Modela una lista enlazada, compuesta de Nodos. \"\n",
    "    def __init__(self):\n",
    "        \"\"\" Crea una lista enlazada vacía. \"\"\"\n",
    "    # prim: apuntará al primer nodo - None con la lista vacía \n",
    "        self.prim = None\n",
    "    # len: longitud de la lista - 0 con la lista vacía \n",
    "        self.len = 0\n",
    "    \n",
    "\n",
    "    \n",
    "    def pop(self, i = None):\n",
    "        \"\"\" Elimina el nodo de la posición i, y devuelve el dato contenido.\n",
    "            Si i está fuera de rango, se levanta la excepción IndexError. Si no se recibe la posición, devuelve el último elemento. \"\"\"\n",
    "    # Si no se recibió i, se devuelve el último.\n",
    "        if i is None:\n",
    "            i = self.len - 1\n",
    "     # Verificación de los límites\n",
    "            if not (0 <= i < self.len):\n",
    "                raise IndexError(\"Índice fuera de rango\")\n",
    "# Caso particular, si es el primero,\n",
    "# hay que saltear la cabecera de la lista \n",
    "        if i==0:\n",
    "            dato = self.prim.dato \n",
    "            self.prim = self.prim.prox\n",
    "     # Para todos los demás elementos, busca la posición\n",
    "        else:\n",
    "            n_ant = self.prim\n",
    "            n_act = n_ant.prox\n",
    "        for pos in range(1, i):\n",
    "            n_ant = n_act \n",
    "            n_act = n_ant.prox\n",
    "         # Guarda el dato y elimina el nodo a borrar\n",
    "            dato = n_act.dato \n",
    "            n_ant.prox = n_act.prox\n",
    "     # hay que restar 1 de len\n",
    "            self.len -= 1\n",
    "     # y devolver el valor borrado\n",
    "        return dato\n",
    "    \n",
    "    def remove(self, x):\n",
    "        \"\"\" Borra la primera aparición del valor x en la lista.\n",
    "            Si x no está en la lista, levanta ValueError \"\"\"\n",
    "        if self.len == 0:\n",
    "        # Si la lista está vacía, no hay nada que borrar. \n",
    "            raise ValueError(\"Lista vacía\")\n",
    "        # Caso particular, x esta en el primer nodo\n",
    "        elif self.prim.dato == x:\n",
    "        # Se descarta la cabecera de la lista \n",
    "            self.prim = self.prim.prox\n",
    "        # En cualquier otro caso, hay que buscar a x\n",
    "        else:\n",
    "        # Obtiene el nodo anterior al que contiene a x (n_ant) n_ant = self.prim\n",
    "            n_act = self.prim.prox\n",
    "            while n_act != None and n_act.dato != x:\n",
    "                n_ant = n_act \n",
    "                n_act = n_ant.prox\n",
    "            # Si no se encontró a x en la lista, levanta la excepción\n",
    "        if n_act == None:\n",
    "            raise ValueError(\"El valor no está en la lista.\")\n",
    "    # Si encontró a x, debe pasar de n_ant -> n_x -> n_x.prox # a n_ant -> n_x.prox\n",
    "        else:\n",
    "            n_ant.prox = n_act.prox\n",
    "        # Si no levantó excepción, hay que restar 1 del largo\n",
    "            self.len -= 1\n",
    "            \n",
    "    def insert(self, i, x):\n",
    "        \"\"\" Inserta el elemento x en la posición i.\n",
    "            Si la posición es inválida, levanta IndexError \"\"\"\n",
    "        if (i > self.len) or (i < 0): # error\n",
    "            raise IndexError(\"Posición inválida\") # Crea nuevo nodo, con x como dato:\n",
    "        nuevo = _Nodo(x)\n",
    "        # Insertar al principio (caso particular)\n",
    "        if i==0:\n",
    "    # el siguiente del nuevo pasa a ser el que era primero \n",
    "            nuevo.prox = self.prim\n",
    "    # el nuevo pasa a ser el primero de la lista\n",
    "            self.prim = nuevo\n",
    "        # Insertar en cualquier lugar > 0\n",
    "        else:\n",
    "    # Recorre la lista hasta llegar a la posición deseada n_ant = self.prim\n",
    "            n_act = self.prim\n",
    "            for pos in range(1,i):\n",
    "                n_act = n_act.prox\n",
    "    # Intercala nuevo y obtiene n_ant -> nuevo -> n_ant.prox\n",
    "            nuevo.prox = n_act.prox \n",
    "            n_act.prox = nuevo\n",
    "        # En cualquier caso, incrementar en 1 la longitud\n",
    "        self.len += 1\n",
    "    \n",
    "    def __iter__(self):\n",
    "        \" Devuelve el iterador de la lista. \" \n",
    "        return _IteradorListaEnlazada(self.prim)"
   ]
  },
  {
   "attachments": {},
   "cell_type": "markdown",
   "metadata": {},
   "source": [
    "# Iteradores\n",
    "\n",
    "Todas las secuencias pueden ser recorridas mediante una misma estructura ($\\texttt{for variable in secuencia}$), ya que todas implementan el método especial **\\_\\_iter\\_\\_**. Este método debe devolver un **iterador** capaz de recorrer la secuencia como corresponda.\n",
    "\n",
    "\n",
    "En particular, en Python, los iteradores tienen que implementar un método **\\_\\_next\\_\\_** que debe devolver los elementos, de a uno por vez, comenzando por el primero. Y al llegar al final de la estructura, debe levantar una excepción de tipo **StopIteration**.\n",
    "\n",
    "Métodos requeridos:\n",
    "\n",
    "- **\\_\\_iter\\_\\_**: Crea un objeto \"Iterador\".\n",
    "\n",
    "- **\\_\\_next\\_\\_**: Siguiente elemento en la secuencia.\n",
    "\n",
    "Excepciones: \n",
    "\n",
    "- **StopIteration**: Nos avisa cuando se a llegador al final de la secuencia.\n"
   ]
  },
  {
   "attachments": {},
   "cell_type": "markdown",
   "metadata": {},
   "source": [
    "Es decir que las siguientes estructuras son equivalentes:"
   ]
  },
  {
   "cell_type": "code",
   "execution_count": null,
   "metadata": {},
   "outputs": [],
   "source": [
    "for elemento in secuencia:\n",
    "    # hacer algo con elemento\n"
   ]
  },
  {
   "cell_type": "code",
   "execution_count": null,
   "metadata": {},
   "outputs": [],
   "source": [
    "iterador = iter(secuencia) \n",
    "while True:\n",
    "    try:\n",
    "        elemento = iterador.next()\n",
    "    except StopIteration: \n",
    "        break\n",
    "    # hacer algo con elemento"
   ]
  },
  {
   "attachments": {},
   "cell_type": "markdown",
   "metadata": {},
   "source": [
    "Queremos implementar un iterador para la *Lista Enlazada*, la mejor solución implica crear una nueva clase, *\\_IteradorListaEnlazada*, que implemente el método *\\_\\_next()\\_\\_* de la forma apropiada."
   ]
  },
  {
   "cell_type": "code",
   "execution_count": null,
   "metadata": {},
   "outputs": [],
   "source": [
    "class IteradorListaEnlazada():\n",
    "    \" Iterador para la clase ListaEnlazada \"\n",
    " \n",
    "    def __init__(self, prim):\n",
    "        \"\"\" Constructor del iterador.\n",
    "            prim es el primer elemento de la lista. \"\"\"\n",
    "        self.actual = prim\n",
    "\n",
    "    def __next__(self):\n",
    "        \"\"\" Devuelve uno a uno los elementos de la lista. \"\"\"\n",
    "        if self.actual == None:\n",
    "            raise StopIteration(\"No hay más elementos en la lista\")\n",
    "        # Guarda el dato\n",
    "        dato = self.actual.dato\n",
    "        # Avanza en la lista\n",
    "        self.actual = self.actual.prox\n",
    "        # Devuelve el dato\n",
    "        return dato\n",
    "\n"
   ]
  },
  {
   "cell_type": "code",
   "execution_count": null,
   "metadata": {},
   "outputs": [],
   "source": [
    "def __iter__(self):\n",
    "    \" Devuelve el iterador de la lista. \" \n",
    "    return IteradorListaEnlazada(self.prim)\n"
   ]
  },
  {
   "cell_type": "code",
   "execution_count": null,
   "metadata": {},
   "outputs": [],
   "source": [
    "l = ListaEnlazada()\n",
    "l.insert(0,1)\n",
    "l.insert(0,2)\n",
    "l.insert(0,3)\n",
    "for valor in l:\n",
    "    print(valor)"
   ]
  },
  {
   "attachments": {},
   "cell_type": "markdown",
   "metadata": {},
   "source": [
    "**Ejercicio:** Escribir los métodos **\\_\\_iter\\_\\_**, **\\_\\_str\\_\\_** y **\\_\\_len\\_\\_** para la lista."
   ]
  },
  {
   "cell_type": "code",
   "execution_count": null,
   "metadata": {},
   "outputs": [],
   "source": []
  },
  {
   "cell_type": "markdown",
   "metadata": {},
   "source": [
    "## Generadores\n",
    "\n",
    "### El comando Yield\n",
    "\n",
    "Ya hemos visto el objeto $\\normalsize \\color{green}{\\textsf{ range }}$, el cual no contiene objetos en si mismo, pero tiene un *'tipo especial'*. Además de ser un objeto **iterable**, es decir, podremos recorrerlo usando un ciclo $\\normalsize \\color{green}{\\textsf{ for }}$, por ejemplo. Un rango, debe ser comprendido como una *'lista potencial'*. \n",
    "\n",
    "\n",
    "La diferencia tecnica radica en lo siguiente. Veamos la lista $\\texttt{L = [ 0,} \\dots , 10^{1000} - 1 ]$, es un objeto que ocupara mucha memoria, mientras que $\\normalsize \\color{green}{\\textsf{ range }}(10^{1000} - 1) $ será visto como: \"*comenzar en 0 y contar hasta* $10^{10000}-1$ \". Cuando recorremos la lista $\\texttt{ L }$ usando un rango, *iteraremos sobre el rango*, es decir, se generaran las variables indices automaticamente y de a una, primero  $\\texttt{ x=0 }$, luego $\\texttt{ x=1 }$, y así sucesivamente. \n"
   ]
  },
  {
   "cell_type": "code",
   "execution_count": 5,
   "metadata": {},
   "outputs": [
    {
     "name": "stdout",
     "output_type": "stream",
     "text": [
      "0,1,2,3,4,5,6,7,8,9,\n",
      "0,1,2,3,4,5,6,7,8,9,\n"
     ]
    }
   ],
   "source": [
    "L = [ i for i in range(10)] # Creación de la lista [0,1,2,3,4,5,6,7,8,9]\n",
    "\n",
    "for x in L:             # Recorremoms la lista: x=0, x=1,... x=9\n",
    "    print(x,end=\",\")\n",
    "print(\"\")\n",
    "for x in range(10): # x=0 luego x+=1, x+=1, ... hasta concluir en x=10\n",
    "    print(x,end=\",\")\n",
    "print(\"\")"
   ]
  },
  {
   "cell_type": "code",
   "execution_count": 9,
   "metadata": {},
   "outputs": [
    {
     "data": {
      "text/plain": [
       "<generator object <genexpr> at 0x113191cb0>"
      ]
     },
     "execution_count": 9,
     "metadata": {},
     "output_type": "execute_result"
    }
   ],
   "source": [
    "#L = [ x * x for x in range(10) ]\n",
    "gen1 = ( x * x for x in range(10) )\n",
    "type(gen1)\n",
    "gen1"
   ]
  },
  {
   "cell_type": "code",
   "execution_count": 10,
   "metadata": {},
   "outputs": [
    {
     "name": "stdout",
     "output_type": "stream",
     "text": [
      "0\n",
      "1\n",
      "4\n",
      "9\n",
      "16\n",
      "25\n",
      "36\n",
      "49\n",
      "64\n",
      "81\n"
     ]
    }
   ],
   "source": [
    "for x in gen1:\n",
    "    print(x)"
   ]
  },
  {
   "cell_type": "markdown",
   "metadata": {},
   "source": [
    "El comando $\\normalsize \\color{green}{\\textsf{ yield }}$ nos permite crear objetos más generales. Los llamaremos **generadores**. \n"
   ]
  },
  {
   "cell_type": "code",
   "execution_count": 11,
   "metadata": {},
   "outputs": [
    {
     "name": "stdout",
     "output_type": "stream",
     "text": [
      "gen1 ha generado alguna salida?\n",
      "--------------------\n",
      "Paso:  0\n",
      "--------------------\n",
      "0\n",
      "--------------------\n",
      "Paso:  1\n",
      "--------------------\n",
      "1\n",
      "--------------------\n",
      "Paso:  2\n",
      "--------------------\n",
      "4\n",
      "--------------------\n",
      "Paso:  3\n",
      "--------------------\n",
      "9\n",
      "--------------------\n",
      "Paso:  4\n",
      "--------------------\n",
      "16\n",
      "--------------------\n",
      "Paso:  5\n",
      "--------------------\n",
      "25\n",
      "--------------------\n",
      "Paso:  6\n",
      "--------------------\n",
      "36\n",
      "--------------------\n",
      "Paso:  7\n",
      "--------------------\n",
      "49\n",
      "--------------------\n",
      "Paso:  8\n",
      "--------------------\n",
      "64\n",
      "--------------------\n",
      "Paso:  9\n",
      "--------------------\n",
      "81\n"
     ]
    }
   ],
   "source": [
    "def generateur(N):\n",
    "    myrange=range(N)\n",
    "    for i in myrange:\n",
    "        print(10*\"--\")\n",
    "        print(\"Paso: \",i) # Cuándo generamos i*i?\n",
    "        print(10*\"--\")\n",
    "        yield i*i   # El comando yield tiene el mismo 'status' que el comando return.\n",
    "        \n",
    "gen1 = generateur(10) # No es una lista de cuadrados.\n",
    "print(\"gen1 ha generado alguna salida?\")\n",
    "for i in gen1:\n",
    "    print(i)"
   ]
  },
  {
   "cell_type": "markdown",
   "metadata": {},
   "source": [
    "### Iteradores con Yield"
   ]
  },
  {
   "cell_type": "code",
   "execution_count": null,
   "metadata": {},
   "outputs": [],
   "source": [
    "def __iter__(self):\n",
    "    actual = self.prim\n",
    "    while actual is not None:\n",
    "        yield actual.dato\n",
    "        actual = actual.prox\n",
    "    raise StopIteration()\n"
   ]
  },
  {
   "cell_type": "markdown",
   "metadata": {},
   "source": [
    "https://pythontutor.com/visualize.html#mode=edit"
   ]
  },
  {
   "cell_type": "code",
   "execution_count": null,
   "metadata": {},
   "outputs": [],
   "source": [
    "class Nodo(object):\n",
    "    def __init__(self, dato = None, prox = None):\n",
    "        self.dato = dato\n",
    "        self.prox = prox \n",
    "    def __str__(self):\n",
    "        return str(self.dato)\n",
    "        \n",
    "class ListaEnlazada(object):\n",
    "\n",
    "    \n",
    "    def __init__(self):\n",
    "        self.prim = None\n",
    "        self.len = 0\n",
    "    \n",
    "    def insert(self, i, x):\n",
    "        \n",
    "        if (i > self.len) or (i < 0):\n",
    "            raise IndexError(\"Posición inválida\") \n",
    "            \n",
    "        nuevo = Nodo(x)\n",
    "        \n",
    "        if i==0:\n",
    "            nuevo.prox = self.prim\n",
    "            self.prim = nuevo\n",
    "        else:\n",
    "            n_act = self.prim\n",
    "            \n",
    "            for pos in range(1,i):\n",
    "                n_act = n_act.prox\n",
    "                \n",
    "            nuevo.prox = n_act.prox \n",
    "            n_act.prox = nuevo\n",
    "            \n",
    "        self.len += 1\n",
    "        \n",
    "        \n",
    "    def pop(self, i = None):\n",
    "        \n",
    "        if i is None:\n",
    "            i = self.len - 1\n",
    "\n",
    "        if not (0 <= i < self.len):\n",
    "            raise IndexError(\"Índice fuera de rango\")\n",
    "\n",
    "        if i==0:\n",
    "            dato = self.prim.dato \n",
    "            self.prim = self.prim.prox \n",
    "        else:\n",
    "            n_ant = self.prim\n",
    "            n_act = n_ant.prox\n",
    "            for pos in range(1, i):\n",
    "                n_ant = n_act \n",
    "                n_act = n_ant.prox\n",
    "  \n",
    "            dato = n_act.dato \n",
    "            n_ant.prox = n_act.prox\n",
    "     # hay que restar 1 de len\n",
    "            self.len -= 1\n",
    "     # y devolver el valor borrado\n",
    "        return dato\n",
    "    \n",
    "\n",
    "l = ListaEnlazada()\n",
    "l.insert(0,\"1\")\n",
    "l.insert(0,\"2\")\n",
    "l.insert(0,\"3\")\n",
    "l.insert(1,\"2.5\")\n",
    "l.insert(3,\"1.5\")\n",
    "l.pop()\n",
    "l.pop(2)"
   ]
  }
 ],
 "metadata": {
  "kernelspec": {
   "display_name": "Python 3",
   "language": "python",
   "name": "python3"
  },
  "language_info": {
   "codemirror_mode": {
    "name": "ipython",
    "version": 3
   },
   "file_extension": ".py",
   "mimetype": "text/x-python",
   "name": "python",
   "nbconvert_exporter": "python",
   "pygments_lexer": "ipython3",
   "version": "3.12.5"
  }
 },
 "nbformat": 4,
 "nbformat_minor": 2
}
