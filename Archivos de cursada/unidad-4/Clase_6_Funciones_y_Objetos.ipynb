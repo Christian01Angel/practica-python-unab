{
 "cells": [
  {
   "attachments": {},
   "cell_type": "markdown",
   "metadata": {},
   "source": [
    "# Algoritmos y Estructuras de Datos. \n",
    "\n",
    "## - Clase 6 - Objetos y Encapsulamiento - "
   ]
  },
  {
   "cell_type": "markdown",
   "metadata": {},
   "source": [
    "# Clases en Python\n",
    "\n",
    "En Python, una $\\textit{Clase}$ nos permite definir nuestros propies tipos de objetos. Debemos pensar en una Clase, cómo un \"template\" de nuestros objetos, donde definiremos sus **atributos** (variables internas) y/o **métodos** (\"comportamientos\", o funciones internas). \n",
    "\n",
    "Ambas pueden ser invoacadas regularmente de la siguiente forma: $\\texttt{obj.name}$. \n"
   ]
  },
  {
   "cell_type": "markdown",
   "metadata": {},
   "source": [
    "## Definición"
   ]
  },
  {
   "cell_type": "code",
   "execution_count": 1,
   "metadata": {},
   "outputs": [
    {
     "data": {
      "text/plain": [
       "__main__.MyfirstClass"
      ]
     },
     "execution_count": 1,
     "metadata": {},
     "output_type": "execute_result"
    }
   ],
   "source": [
    "class MyfirstClass(): pass   \n",
    "    # Atributos \n",
    "    # Métodos\n",
    "    \n",
    "x = MyfirstClass() # Define un objecto del Tipo 'MyfirstClass'\n",
    "type(x)"
   ]
  },
  {
   "cell_type": "code",
   "execution_count": null,
   "metadata": {},
   "outputs": [
    {
     "name": "stdout",
     "output_type": "stream",
     "text": [
      "Pierre\n",
      "Paul\n"
     ]
    }
   ],
   "source": [
    "xy = MyfirstClass()\n",
    "xy.name = 'Pierre' # Luego de realizada esta asignación \"xy.name\" es el \"name\" del objeto 'xy'\n",
    "print(xy.name)          # Notar que el atributo 'name' no estaba definido anteriormente en MyfirstClass.\n",
    "z = xy\n",
    "z.name='Paul' # los atributos son objetos mutables.\n",
    "print(xy.name)"
   ]
  },
  {
   "cell_type": "markdown",
   "metadata": {},
   "source": [
    "De manera similar a las funciones, podremos definir valores por defecto, para la instanciación de un nuevo objeto:\n"
   ]
  },
  {
   "cell_type": "code",
   "execution_count": 3,
   "metadata": {},
   "outputs": [],
   "source": [
    "class Ratio():\n",
    "    \"Número Racional\"\n",
    "    def __init__ (self, numerator, denominator): # Siempre usar \"self\" para referirse a los atributos\n",
    "                                                # del objeto (variables internas)\n",
    "        self.num = numerator\n",
    "        self.den = denominator"
   ]
  },
  {
   "cell_type": "code",
   "execution_count": 4,
   "metadata": {
    "scrolled": true
   },
   "outputs": [
    {
     "name": "stdout",
     "output_type": "stream",
     "text": [
      "0\n",
      "1\n"
     ]
    }
   ],
   "source": [
    "q = Ratio(0,1) # Crea una variable \"q\" de tipo \"Ratio\" , donde el numerador es 0 y el denominador es 1\n",
    "print(q.num)\n",
    "print(q.den) "
   ]
  },
  {
   "cell_type": "markdown",
   "metadata": {},
   "source": [
    "## Métodos asociados al objeto\n",
    "\n",
    "Dentro de la Clase definimos los métodos (funciones internas a los objetos) que los objetos requieren para realizar computaciones, acciones, etc. \n"
   ]
  },
  {
   "cell_type": "code",
   "execution_count": null,
   "metadata": {},
   "outputs": [],
   "source": [
    "class Ratio():\n",
    "    \"rational number\"\n",
    "    def __init__(self, numerator = None , denominator = None):\n",
    "        if denominator == 0 :\n",
    "            raise ValueError('El denominador no puede ser 0!!')\n",
    "        # es int ? es float ? es número ?  \n",
    "        self.num = numerator\n",
    "        self.den = denominator\n",
    "        \n",
    "    def val(self):\n",
    "        return self.num/self.den\n",
    "    \n",
    "    "
   ]
  },
  {
   "cell_type": "code",
   "execution_count": 6,
   "metadata": {},
   "outputs": [
    {
     "ename": "NameError",
     "evalue": "name 'val' is not defined",
     "output_type": "error",
     "traceback": [
      "\u001b[0;31m---------------------------------------------------------------------------\u001b[0m",
      "\u001b[0;31mNameError\u001b[0m                                 Traceback (most recent call last)",
      "Cell \u001b[0;32mIn[6], line 1\u001b[0m\n\u001b[0;32m----> 1\u001b[0m val(Ratio(\u001b[38;5;241m0\u001b[39m,\u001b[38;5;241m1\u001b[39m))\n",
      "\u001b[0;31mNameError\u001b[0m: name 'val' is not defined"
     ]
    }
   ],
   "source": [
    "val(Ratio(0,1)) # Esto no funciona, recordar que 'val' es un método y no una función."
   ]
  },
  {
   "cell_type": "code",
   "execution_count": 7,
   "metadata": {},
   "outputs": [
    {
     "name": "stdout",
     "output_type": "stream",
     "text": [
      "0.0\n",
      "0.0\n"
     ]
    }
   ],
   "source": [
    "q = Ratio(0,1)\n",
    "print(q.val())\n",
    "print(Ratio.val(q))"
   ]
  },
  {
   "cell_type": "markdown",
   "metadata": {},
   "source": [
    "## Sobrecarga de operadores/comandos (Overloading)\n",
    "\n",
    "La \"sobrecarga\" de una función, operador, método, ya definido nos permite cambiar su significado. Por ejemplo, nos gustaria re-definir el operador \"suma\" $\\textit{\"+\"}$, para nuestra nueva clase de objetos.    \n"
   ]
  },
  {
   "cell_type": "code",
   "execution_count": 56,
   "metadata": {},
   "outputs": [],
   "source": [
    "import math\n",
    "\n",
    "class Ratio():\n",
    "    \"rational number\"\n",
    "    def __init__(self,numerator = None, denominator = None):\n",
    "        if denominator == 0:\n",
    "            raise ValueError('El denominador no puede ser 0!!')\n",
    "\n",
    "        self.num = numerator\n",
    "        self.den = denominator\n",
    "        \n",
    "    # Methods\n",
    "    def val(self):\n",
    "        return self.num / self.den\n",
    "    \n",
    "    def reducir_fraccion(self):  \n",
    "        # reducir de manera iterativa\n",
    "        d = self.den\n",
    "        self.den /= math.gcd(self.num, d)\n",
    "        self.num /= math.gcd(self.num, d)\n",
    "    \n",
    "    def suma(self,other):    # Sobrecarga del operador '+'.\n",
    "        if not ( type(other) is Ratio or type(other) is int or type(other) is float ):\n",
    "            raise ValueError('El número tiene que ser racional, entero, o float, para sumar.')\n",
    "        return Ratio( self.num * other.den + self.den * other.num, self.den * other.den )\n",
    "     \n",
    "    \n",
    "    # Overloading operators\n",
    "    \n",
    "    def __add__(self,other):    # Sobrecarga del operador '+'.\n",
    "        if not ( type(other) is Ratio or type(other) is int or type(other) is float ):\n",
    "            raise ValueError('El número tiene que ser racional, entero, o float, para sumar.')\n",
    "        return Ratio(self.num*other.den+self.den*other.num,self.den*other.den)\n",
    "\n",
    "    \n",
    "    def __str__(self):          # Sobrecarga necesaria para la función 'print'.\n",
    "        return str(self.num) + ' / ' + str(self.den)  #Cómo devolvemos una cadena de caracteres, para que\n",
    "                                                #la función print muestre algo para nuestro objeto. \n",
    "    def __mul__(self,other):    # Sobrecarga del operador '*'.\n",
    "        if not ( type(other) is Ratio or type(other) is int or type(other) is float ):\n",
    "            raise ValueError('El número tiene que ser racional, entero, o float, para sumar.')\n",
    "        return Ratio(self.num*other.num,self.den*other.den)\n",
    "    \n",
    "    def __int__(self): #Sobrecarga de la función 'int'.\n",
    "        return int(self.val())\n",
    "        \n",
    "  #print(obj)----> print(str(obj))  "
   ]
  },
  {
   "cell_type": "code",
   "execution_count": null,
   "metadata": {},
   "outputs": [
    {
     "name": "stdout",
     "output_type": "stream",
     "text": [
      "9 ======= 9\n"
     ]
    }
   ],
   "source": [
    "q1 = Ratio(2,3)\n",
    "q2 = Ratio(1,3)\n",
    "q = q1 + q2 \n",
    "# q = q1.suma(q2) \n",
    "# q = Ratio.suma(q1,q2)\n",
    "#print(q.num,q.den) # No es muy bonito, podemos arreglarlo?\n",
    "#q.reducir_fraccion()\n",
    "print(q)\n"
   ]
  },
  {
   "cell_type": "code",
   "execution_count": 42,
   "metadata": {},
   "outputs": [
    {
     "data": {
      "text/plain": [
       "True"
      ]
     },
     "execution_count": 42,
     "metadata": {},
     "output_type": "execute_result"
    }
   ],
   "source": [
    "type(q) is Ratio"
   ]
  },
  {
   "cell_type": "code",
   "execution_count": null,
   "metadata": {},
   "outputs": [],
   "source": [
    "class Auto():\n",
    "    def __init__(self, marca, mod, anio):\n",
    "        self.modelo = mod\n",
    "        \n",
    "        \n",
    "def __str__():\n",
    "    return str(self.modelo)"
   ]
  }
 ],
 "metadata": {
  "kernelspec": {
   "display_name": "base",
   "language": "python",
   "name": "python3"
  },
  "language_info": {
   "codemirror_mode": {
    "name": "ipython",
    "version": 3
   },
   "file_extension": ".py",
   "mimetype": "text/x-python",
   "name": "python",
   "nbconvert_exporter": "python",
   "pygments_lexer": "ipython3",
   "version": "3.12.4"
  }
 },
 "nbformat": 4,
 "nbformat_minor": 2
}
